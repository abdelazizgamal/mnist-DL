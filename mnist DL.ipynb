{
  "nbformat": 4,
  "nbformat_minor": 0,
  "metadata": {
    "accelerator": "GPU",
    "colab": {
      "provenance": []
    },
    "kernelspec": {
      "display_name": "Python 3",
      "name": "python3"
    },
    "language_info": {
      "name": "python"
    }
  },
  "cells": [
    {
      "cell_type": "code",
      "metadata": {
        "colab": {
          "base_uri": "https://localhost:8080/"
        },
        "id": "vPUJZdLSdLN3",
        "outputId": "938cf148-9cbf-45f2-c99f-f8cd72dd5afd"
      },
      "source": [
        "import os\n",
        "import tensorflow as tf\n",
        "from tensorflow import keras\n",
        "from tensorflow.keras import layers, optimizers, datasets\n",
        "from matplotlib import pyplot as plt\n",
        "import numpy as np\n",
        "\n",
        "(x_train, y_train), (x_test, y_test) = datasets.mnist.load_data()\n",
        "\n",
        "print(y_train[0])\n",
        "#print(x_train_raw.shape, y_trainra_w.shape)\n",
        "#print(x_test_raw.shape, y_test_raw.shape)\n",
        "\n",
        "#Convert the labels into one-hot codes.\n",
        "num_classes = 10\n",
        "y_train = keras.utils.to_categorical(y_train, num_classes)\n",
        "y_test = keras.utils.to_categorical(y_test, num_classes)\n",
        "print(y_train[0])\n"
      ],
      "execution_count": 1,
      "outputs": [
        {
          "output_type": "stream",
          "name": "stdout",
          "text": [
            "Downloading data from https://storage.googleapis.com/tensorflow/tf-keras-datasets/mnist.npz\n",
            "11490434/11490434 [==============================] - 0s 0us/step\n",
            "5\n",
            "[0. 0. 0. 0. 0. 1. 0. 0. 0. 0.]\n"
          ]
        }
      ]
    },
    {
      "cell_type": "code",
      "metadata": {
        "colab": {
          "base_uri": "https://localhost:8080/",
          "height": 406
        },
        "id": "PFH7Tvf5hgCW",
        "outputId": "9696b283-ae26-47c4-bb0a-47fdf8af5531"
      },
      "source": [
        "plt.figure()\n",
        "for i in range(9):\n",
        "    plt.subplot(3,3,i+1)\n",
        "    plt.imshow(x_train[i])\n",
        "    #plt.ylabel(y[i].numpy())\n",
        "    plt.axis('off')\n",
        "plt.show()\n"
      ],
      "execution_count": 2,
      "outputs": [
        {
          "output_type": "display_data",
          "data": {
            "text/plain": [
              "<Figure size 640x480 with 9 Axes>"
            ],
            "image/png": "[encoded data removed]"
          },
          "metadata": {}
        }
      ]
    },
    {
      "cell_type": "code",
      "metadata": {
        "colab": {
          "base_uri": "https://localhost:8080/"
        },
        "id": "QvZBcS4Ww1PO",
        "outputId": "843b764f-20da-402a-b80a-68d01d49214e"
      },
      "source": [
        "model=keras.Sequential() #Create a network sequence.\n",
        "##Add the first convolutional layer and pooling layer.\n",
        "model.add(keras.layers.Conv2D(filters=32,kernel_size = 5,strides = (1,1),\n",
        "                              padding = 'same',activation = tf.nn.relu,input_shape = (28,28,1)))\n",
        "model.add(keras.layers.MaxPool2D(pool_size=(2,2), strides = (2,2), padding = 'valid'))\n",
        "##Add the second convolutional layer and pooling layer.\n",
        "model.add(keras.layers.Conv2D(filters=64,kernel_size = 3,strides = (1,1),padding = 'same',activation = tf.nn.relu))\n",
        "model.add(keras.layers.MaxPool2D(pool_size=(2,2), strides = (2,2), padding = 'valid'))\n",
        "##Add a dropout layer to reduce overfitting.\n",
        "model.add(keras.layers.Dropout(0.25))\n",
        "model.add(keras.layers.Flatten())\n",
        "##Add two fully connected layers.\n",
        "model.add(keras.layers.Dense(units=128,activation = tf.nn.relu))\n",
        "model.add(keras.layers.Dropout(0.5))\n",
        "model.add(keras.layers.Dense(units=10,activation = tf.nn.softmax))\n",
        "model.summary"
      ],
      "execution_count": 3,
      "outputs": [
        {
          "output_type": "execute_result",
          "data": {
            "text/plain": [
              "<bound method Model.summary of <keras.src.engine.sequential.Sequential object at 0x7a73d00962f0>>"
            ]
          },
          "metadata": {},
          "execution_count": 3
        }
      ]
    },
    {
      "cell_type": "code",
      "metadata": {
        "colab": {
          "base_uri": "https://localhost:8080/"
        },
        "id": "YNlY1seIw1XD",
        "outputId": "7e50b222-ed28-409e-cf7a-be732f411a96"
      },
      "source": [
        "#Expand data dimensions to adapt to the CNN model.\n",
        "X_train=x_train.reshape(60000,28,28,1)\n",
        "X_test=x_test.reshape(10000,28,28,1)\n",
        "model.compile(optimizer=\"adam\",loss=\"categorical_crossentropy\",metrics=['accuracy'])\n",
        "history = model.fit(x=X_train,y=y_train,epochs=5,batch_size=128)\n",
        "\n"
      ],
      "execution_count": 4,
      "outputs": [
        {
          "output_type": "stream",
          "name": "stdout",
          "text": [
            "Epoch 1/5\n",
            "469/469 [==============================] - 21s 9ms/step - loss: 0.9438 - accuracy: 0.8064\n",
            "Epoch 2/5\n",
            "469/469 [==============================] - 5s 11ms/step - loss: 0.1830 - accuracy: 0.9463\n",
            "Epoch 3/5\n",
            "469/469 [==============================] - 4s 8ms/step - loss: 0.1277 - accuracy: 0.9634\n",
            "Epoch 4/5\n",
            "469/469 [==============================] - 4s 8ms/step - loss: 0.1073 - accuracy: 0.9693\n",
            "Epoch 5/5\n",
            "469/469 [==============================] - 5s 10ms/step - loss: 0.0960 - accuracy: 0.9718\n"
          ]
        }
      ]
    },
    {
      "cell_type": "code",
      "metadata": {
        "colab": {
          "base_uri": "https://localhost:8080/"
        },
        "id": "zFS1-nt8hgWB",
        "outputId": "aed2847c-ad8c-4554-fce0-461094738bbb"
      },
      "source": [
        "model.save('./model/final_DNN_model.h5')\n",
        "\n",
        "\n"
      ],
      "execution_count": 5,
      "outputs": [
        {
          "output_type": "stream",
          "name": "stderr",
          "text": [
            "/usr/local/lib/python3.10/dist-packages/keras/src/engine/training.py:3079: UserWarning: You are saving your model as an HDF5 file via `model.save()`. This file format is considered legacy. We recommend using instead the native Keras format, e.g. `model.save('my_model.keras')`.\n",
            "  saving_api.save_model(\n"
          ]
        }
      ]
    },
    {
      "cell_type": "code",
      "metadata": {
        "colab": {
          "base_uri": "https://localhost:8080/",
          "height": 472
        },
        "id": "wTOIWOehJiC4",
        "outputId": "16b300fc-2afa-4e23-dc7d-4af0467a11aa"
      },
      "source": [
        "plt.plot(history.history['loss'])\n",
        "plt.plot(history.history['accuracy'])\n",
        "plt.title('model loss')\n",
        "plt.ylabel('loss')\n",
        "plt.xlabel('epoch')\n",
        "plt.legend(['train', 'test'], loc='upper left')\n",
        "plt.show()"
      ],
      "execution_count": 9,
      "outputs": [
        {
          "output_type": "display_data",
          "data": {
            "text/plain": [
              "<Figure size 640x480 with 1 Axes>"
            ],
            "image/png": "[encoded data removed]"
          },
          "metadata": {}
        }
      ]
    },
    {
      "cell_type": "code",
      "metadata": {
        "colab": {
          "base_uri": "https://localhost:8080/",
          "height": 191
        },
        "id": "aHuQAFi9G5DF",
        "outputId": "fa4bbcb9-1bdc-4c07-9a41-1e3c54327537"
      },
      "source": [
        "#Visualize test set output results.\n",
        "import matplotlib.pyplot as plt\n",
        "%matplotlib inline\n",
        "def res_Visual(n):\n",
        "    final_opt_a=model.predict(X_test[0:n])#Perform predictions on the test set by using the model.\n",
        "    fig, ax = plt.subplots(nrows=int(n/5),ncols=5 )\n",
        "    ax = ax.flatten()\n",
        "    print('prediction results of the first {} images:'.format(n))\n",
        "    for i in range(n):\n",
        "        #print(final_opt_a[i],end=',')\n",
        "        print(np.argmax(final_opt_a[i]), end=',')\n",
        "        if int((i+1)%5) ==0:\n",
        "            print('\\t')\n",
        "        #Visualize image display.\n",
        "        img = X_test[i].reshape((28,28))#Read each row of data in the format of Ndarry.\n",
        "        plt.axis(\"off\")\n",
        "        ax[i].imshow(img, cmap='Greys', interpolation='nearest')#Visualization\n",
        "        ax[i].axis(\"off\")\n",
        "    print('first {} images in the test set:'.format(n))\n",
        "res_Visual(5)\n"
      ],
      "execution_count": 7,
      "outputs": [
        {
          "output_type": "stream",
          "name": "stdout",
          "text": [
            "1/1 [==============================] - 0s 144ms/step\n",
            "prediction results of the first 5 images:\n",
            "7,2,1,0,4,\t\n",
            "first 5 images in the test set:\n"
          ]
        },
        {
          "output_type": "display_data",
          "data": {
            "text/plain": [
              "<Figure size 640x480 with 5 Axes>"
            ],
            "image/png": "[encoded data removed]"
          },
          "metadata": {}
        }
      ]
    }
  ]
}